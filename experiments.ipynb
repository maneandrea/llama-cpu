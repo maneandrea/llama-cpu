{
 "cells": [
  {
   "cell_type": "code",
   "execution_count": 1,
   "id": "f8058a8f-329e-4925-8a63-61278cbfe1df",
   "metadata": {},
   "outputs": [],
   "source": [
    "import llama\n",
    "from llama import Llama"
   ]
  },
  {
   "cell_type": "code",
   "execution_count": 2,
   "id": "b80a5abe-215f-4b06-863e-f1a821879395",
   "metadata": {},
   "outputs": [],
   "source": [
    "weights = '/volume/Data/llama-2-7b/'\n",
    "tokfile = '/volume/Data/tokenizer.model'"
   ]
  },
  {
   "cell_type": "code",
   "execution_count": 3,
   "id": "e54c04c2-5708-4ec3-89cc-d4919e41c777",
   "metadata": {},
   "outputs": [
    {
     "name": "stdout",
     "output_type": "stream",
     "text": [
      "Creating model...\n",
      "Loading checkpoint 0\n",
      "Loaded model in 31.44 seconds\n"
     ]
    }
   ],
   "source": [
    "kuzko = Llama.load(\n",
    "    weights,\n",
    "    tokfile,\n",
    "    max_seq_len = 100,\n",
    "    max_batch_size = 4\n",
    ")"
   ]
  },
  {
   "cell_type": "code",
   "execution_count": 5,
   "id": "8af0d233-e9e0-419d-a201-648cc4ec7596",
   "metadata": {
    "scrolled": true
   },
   "outputs": [
    {
     "name": "stderr",
     "output_type": "stream",
     "text": [
      "\n",
      "  0%|                                                                                                                                                                                                                | 0/92 [00:00<?, ?it/s]\u001b[A\n",
      "100%|███████████████████████████████████████████████████████████████████████████████████████████████████████████████████████████████████████████████████████████████████████████████████████████████████████| 92/92 [01:22<00:00,  1.12it/s]\u001b[A\n"
     ]
    }
   ],
   "source": [
    "reply = kuzko.generate(\n",
    "    ['hi, what is your name?'],\n",
    "    100\n",
    ")"
   ]
  },
  {
   "cell_type": "code",
   "execution_count": 7,
   "id": "937b6e1b-4eb1-41a7-a3e1-0cc5cb1a3c42",
   "metadata": {},
   "outputs": [
    {
     "name": "stdout",
     "output_type": "stream",
     "text": [
      "hi, what is your name?\n",
      "Hi my name is Ellie.\n"
     ]
    }
   ],
   "source": [
    "print(*reply)"
   ]
  },
  {
   "cell_type": "code",
   "execution_count": null,
   "id": "a12c4f69-fc38-4eb6-95f9-908943256cef",
   "metadata": {},
   "outputs": [],
   "source": []
  }
 ],
 "metadata": {
  "kernelspec": {
   "display_name": "venv",
   "language": "python",
   "name": "venv"
  },
  "language_info": {
   "codemirror_mode": {
    "name": "ipython",
    "version": 3
   },
   "file_extension": ".py",
   "mimetype": "text/x-python",
   "name": "python",
   "nbconvert_exporter": "python",
   "pygments_lexer": "ipython3",
   "version": "3.11.5"
  }
 },
 "nbformat": 4,
 "nbformat_minor": 5
}
